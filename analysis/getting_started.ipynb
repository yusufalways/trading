{
 "cells": [
  {
   "cell_type": "markdown",
   "id": "32a3e4c1",
   "metadata": {},
   "source": [
    "# Swing Trading Analysis - Getting Started\n",
    "\n",
    "This notebook demonstrates basic data collection and analysis for swing trading across India, Malaysia, and USA markets."
   ]
  },
  {
   "cell_type": "code",
   "execution_count": null,
   "id": "8993886a",
   "metadata": {},
   "outputs": [],
   "source": [
    "# Import required libraries\n",
    "import pandas as pd\n",
    "import numpy as np\n",
    "import matplotlib.pyplot as plt\n",
    "import seaborn as sns\n",
    "import warnings\n",
    "warnings.filterwarnings('ignore')\n",
    "\n",
    "# Set up plotting style\n",
    "plt.style.use('seaborn-v0_8')\n",
    "sns.set_palette(\"husl\")\n",
    "\n",
    "print(\"Libraries imported successfully!\")"
   ]
  },
  {
   "cell_type": "markdown",
   "id": "864b6b5c",
   "metadata": {},
   "source": [
    "## 1. Data Collection Setup\n",
    "\n",
    "First, let's set up our data collection system to gather market data from all three regions."
   ]
  },
  {
   "cell_type": "code",
   "execution_count": null,
   "id": "c0834f5f",
   "metadata": {},
   "outputs": [],
   "source": [
    "# Import our custom modules\n",
    "import sys\n",
    "import os\n",
    "sys.path.append('../')\n",
    "\n",
    "from tools.data_collector import MarketDataCollector\n",
    "from tools.technical_analysis import TechnicalAnalyzer, SwingTradingSignals\n",
    "from strategies.sma_crossover import SMACrossoverStrategy\n",
    "\n",
    "# Initialize our data collector\n",
    "collector = MarketDataCollector()\n",
    "print(\"Data collector initialized!\")"
   ]
  },
  {
   "cell_type": "markdown",
   "id": "928069e7",
   "metadata": {},
   "source": [
    "## 2. Sample Data Analysis\n",
    "\n",
    "Let's analyze a sample stock to demonstrate our technical analysis capabilities."
   ]
  },
  {
   "cell_type": "code",
   "execution_count": null,
   "id": "9da3743e",
   "metadata": {},
   "outputs": [],
   "source": [
    "# For demonstration, let's create sample data\n",
    "# In practice, you would load real market data\n",
    "\n",
    "# Generate sample stock data\n",
    "np.random.seed(42)\n",
    "dates = pd.date_range(start='2023-01-01', end='2024-08-29', freq='D')\n",
    "n_days = len(dates)\n",
    "\n",
    "# Simulate stock price movements\n",
    "price_changes = np.random.normal(0.001, 0.02, n_days)  # Daily returns\n",
    "prices = [100]  # Starting price\n",
    "\n",
    "for change in price_changes[1:]:\n",
    "    new_price = prices[-1] * (1 + change)\n",
    "    prices.append(new_price)\n",
    "\n",
    "# Create sample OHLC data\n",
    "sample_data = pd.DataFrame({\n",
    "    'Date': dates,\n",
    "    'Open': prices,\n",
    "    'High': [p * (1 + abs(np.random.normal(0, 0.01))) for p in prices],\n",
    "    'Low': [p * (1 - abs(np.random.normal(0, 0.01))) for p in prices],\n",
    "    'Close': prices,\n",
    "    'Volume': np.random.randint(1000000, 5000000, n_days)\n",
    "})\n",
    "\n",
    "sample_data.set_index('Date', inplace=True)\n",
    "print(f\"Sample data created with {len(sample_data)} days\")\n",
    "sample_data.head()"
   ]
  },
  {
   "cell_type": "markdown",
   "id": "502a44f9",
   "metadata": {},
   "source": [
    "## 3. Technical Analysis\n",
    "\n",
    "Now let's apply our technical analysis tools to generate trading signals."
   ]
  },
  {
   "cell_type": "code",
   "execution_count": null,
   "id": "27591c9d",
   "metadata": {},
   "outputs": [],
   "source": [
    "# Initialize technical analyzer\n",
    "analyzer = TechnicalAnalyzer()\n",
    "\n",
    "# Calculate technical indicators\n",
    "sample_data['SMA_20'] = analyzer.sma(sample_data['Close'], 20)\n",
    "sample_data['SMA_50'] = analyzer.sma(sample_data['Close'], 50)\n",
    "sample_data['RSI'] = analyzer.rsi(sample_data['Close'])\n",
    "\n",
    "# MACD\n",
    "macd_data = analyzer.macd(sample_data['Close'])\n",
    "sample_data['MACD'] = macd_data['macd']\n",
    "sample_data['MACD_Signal'] = macd_data['signal']\n",
    "\n",
    "print(\"Technical indicators calculated!\")\n",
    "sample_data[['Close', 'SMA_20', 'SMA_50', 'RSI', 'MACD']].tail()"
   ]
  },
  {
   "cell_type": "markdown",
   "id": "95dc3215",
   "metadata": {},
   "source": [
    "## 4. Strategy Backtesting\n",
    "\n",
    "Let's test our SMA Crossover strategy on the sample data."
   ]
  },
  {
   "cell_type": "code",
   "execution_count": null,
   "id": "539c2bd6",
   "metadata": {},
   "outputs": [],
   "source": [
    "# Initialize and run SMA Crossover strategy\n",
    "strategy = SMACrossoverStrategy(fast_period=20, slow_period=50)\n",
    "results = strategy.backtest(sample_data)\n",
    "\n",
    "# Display results\n",
    "print(\"=\" * 50)\n",
    "print(\"BACKTESTING RESULTS\")\n",
    "print(\"=\" * 50)\n",
    "print(f\"Strategy: {results['strategy_name']}\")\n",
    "print(f\"Total Trades: {results['total_trades']}\")\n",
    "print(f\"Buy Signals: {results['buy_signals']}\")\n",
    "print(f\"Sell Signals: {results['sell_signals']}\")\n",
    "print(f\"Buy & Hold Return: {results['buy_and_hold_return']:.2%}\")\n",
    "print(f\"Strategy Return: {results['strategy_return']:.2%}\")\n",
    "print(f\"Sharpe Ratio: {results['sharpe_ratio']:.3f}\")\n",
    "print(f\"Max Drawdown: {results['max_drawdown']:.2%}\")"
   ]
  },
  {
   "cell_type": "markdown",
   "id": "cd61f045",
   "metadata": {},
   "source": [
    "## 5. Visualization\n",
    "\n",
    "Let's create some charts to visualize our analysis."
   ]
  },
  {
   "cell_type": "code",
   "execution_count": null,
   "id": "b50b2597",
   "metadata": {},
   "outputs": [],
   "source": [
    "# Create visualization\n",
    "fig, ((ax1, ax2), (ax3, ax4)) = plt.subplots(2, 2, figsize=(15, 10))\n",
    "\n",
    "# Price and Moving Averages\n",
    "ax1.plot(sample_data.index, sample_data['Close'], label='Close Price', linewidth=1)\n",
    "ax1.plot(sample_data.index, sample_data['SMA_20'], label='SMA 20', alpha=0.7)\n",
    "ax1.plot(sample_data.index, sample_data['SMA_50'], label='SMA 50', alpha=0.7)\n",
    "ax1.set_title('Price and Moving Averages')\n",
    "ax1.legend()\n",
    "ax1.grid(True, alpha=0.3)\n",
    "\n",
    "# RSI\n",
    "ax2.plot(sample_data.index, sample_data['RSI'], color='purple')\n",
    "ax2.axhline(y=70, color='r', linestyle='--', alpha=0.7, label='Overbought (70)')\n",
    "ax2.axhline(y=30, color='g', linestyle='--', alpha=0.7, label='Oversold (30)')\n",
    "ax2.set_title('RSI (Relative Strength Index)')\n",
    "ax2.set_ylim(0, 100)\n",
    "ax2.legend()\n",
    "ax2.grid(True, alpha=0.3)\n",
    "\n",
    "# MACD\n",
    "ax3.plot(sample_data.index, sample_data['MACD'], label='MACD', color='blue')\n",
    "ax3.plot(sample_data.index, sample_data['MACD_Signal'], label='Signal', color='red')\n",
    "ax3.bar(sample_data.index, macd_data['histogram'], label='Histogram', alpha=0.3)\n",
    "ax3.set_title('MACD')\n",
    "ax3.legend()\n",
    "ax3.grid(True, alpha=0.3)\n",
    "\n",
    "# Strategy Returns\n",
    "strategy_data = results['data']\n",
    "ax4.plot(strategy_data.index, strategy_data['Cumulative_Return'], \n",
    "         label='Buy & Hold', linewidth=2)\n",
    "ax4.plot(strategy_data.index, strategy_data['Strategy_Cumulative_Return'], \n",
    "         label='SMA Strategy', linewidth=2)\n",
    "ax4.set_title('Strategy Performance Comparison')\n",
    "ax4.legend()\n",
    "ax4.grid(True, alpha=0.3)\n",
    "\n",
    "plt.tight_layout()\n",
    "plt.show()"
   ]
  },
  {
   "cell_type": "markdown",
   "id": "0236c9ae",
   "metadata": {},
   "source": [
    "## 6. Next Steps\n",
    "\n",
    "This notebook provides a foundation for swing trading analysis. Here are suggested next steps:\n",
    "\n",
    "1. **Real Data Collection**: Replace sample data with real market data using the data collector\n",
    "2. **More Strategies**: Implement additional trading strategies (RSI divergence, Bollinger Bands, etc.)\n",
    "3. **Multi-Asset Analysis**: Analyze multiple stocks across different countries\n",
    "4. **Risk Management**: Add position sizing and risk management rules\n",
    "5. **Machine Learning**: Integrate ML models for pattern recognition and prediction\n",
    "6. **Real-time Analysis**: Set up real-time data feeds and automated signal generation\n",
    "\n",
    "Remember to:\n",
    "- Always backtest strategies before using real money\n",
    "- Consider transaction costs and slippage\n",
    "- Implement proper risk management\n",
    "- Stay updated with market conditions and news"
   ]
  }
 ],
 "metadata": {
  "language_info": {
   "name": "python"
  }
 },
 "nbformat": 4,
 "nbformat_minor": 5
}
